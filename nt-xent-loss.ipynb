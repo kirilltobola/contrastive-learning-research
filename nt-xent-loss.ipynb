{
 "cells": [
  {
   "cell_type": "code",
   "execution_count": 1,
   "id": "b007540e-7954-4d6d-8994-1228eb537abb",
   "metadata": {},
   "outputs": [],
   "source": [
    "import torch\n",
    "from torch import nn\n",
    "from torch.nn import functional as F"
   ]
  },
  {
   "cell_type": "code",
   "execution_count": 2,
   "id": "96292ccf-851c-4d49-bc23-6dc4b6c5e47a",
   "metadata": {},
   "outputs": [],
   "source": [
    "batch_size = 6\n",
    "hidden_size = 5"
   ]
  },
  {
   "cell_type": "code",
   "execution_count": 3,
   "id": "3a5421bc-dd08-4394-b550-42504cefb176",
   "metadata": {},
   "outputs": [
    {
     "data": {
      "text/plain": [
       "tensor([[1., 0., 0., 0., 0., 0.],\n",
       "        [0., 1., 0., 0., 0., 0.],\n",
       "        [0., 0., 1., 0., 0., 0.],\n",
       "        [0., 0., 0., 1., 0., 0.],\n",
       "        [0., 0., 0., 0., 1., 0.],\n",
       "        [0., 0., 0., 0., 0., 1.]])"
      ]
     },
     "execution_count": 3,
     "metadata": {},
     "output_type": "execute_result"
    }
   ],
   "source": [
    "eye = torch.eye(batch_size)\n",
    "eye"
   ]
  },
  {
   "cell_type": "code",
   "execution_count": 4,
   "id": "e6f84268-fb0f-4388-9909-0cfaf75f6e92",
   "metadata": {},
   "outputs": [
    {
     "data": {
      "text/plain": [
       "tensor([[ 1.9269,  1.4873,  0.9007, -2.1055,  0.6784],\n",
       "        [-1.2345, -0.0431, -1.6047, -0.7521,  1.6487],\n",
       "        [-0.3925, -1.4036, -0.7279, -0.5594, -2.3169],\n",
       "        [-0.2168, -1.3847, -0.8712, -0.2234,  1.7174],\n",
       "        [ 0.3189, -0.4245, -0.8286,  0.3309, -1.5576],\n",
       "        [ 0.9956, -0.8798, -0.6011, -1.2742,  2.1228]])"
      ]
     },
     "execution_count": 4,
     "metadata": {},
     "output_type": "execute_result"
    }
   ],
   "source": [
    "# Model output\n",
    "torch.manual_seed(42)\n",
    "x = torch.randn(batch_size, hidden_size)\n",
    "x"
   ]
  },
  {
   "cell_type": "code",
   "execution_count": 5,
   "id": "298b5a09-38d8-4113-bc23-c298ca665493",
   "metadata": {},
   "outputs": [
    {
     "data": {
      "text/plain": [
       "tensor([[ 1.0000, -0.1280, -0.3954, -0.1994, -0.3942,  0.4277],\n",
       "        [-0.1280,  1.0000, -0.2149,  0.7268, -0.3662,  0.5419],\n",
       "        [-0.3954, -0.2149,  1.0000, -0.1725,  0.8322, -0.3525],\n",
       "        [-0.1994,  0.7268, -0.1725,  1.0000, -0.3368,  0.7938],\n",
       "        [-0.3942, -0.3662,  0.8322, -0.3368,  1.0000, -0.4720],\n",
       "        [ 0.4277,  0.5419, -0.3525,  0.7938, -0.4720,  1.0000]])"
      ]
     },
     "execution_count": 5,
     "metadata": {},
     "output_type": "execute_result"
    }
   ],
   "source": [
    "# compute sim between every pair\n",
    "\n",
    "similarity_matrix = F.cosine_similarity(\n",
    "    x.reshape(1, batch_size, hidden_size), \n",
    "    x.reshape(batch_size, 1, hidden_size), \n",
    "    dim=-1\n",
    ")\n",
    "similarity_matrix"
   ]
  },
  {
   "cell_type": "code",
   "execution_count": 6,
   "id": "74426559-4a05-4526-96a6-7375b539bded",
   "metadata": {},
   "outputs": [
    {
     "data": {
      "text/plain": [
       "tensor([[   -inf, -0.1280, -0.3954, -0.1994, -0.3942,  0.4277],\n",
       "        [-0.1280,    -inf, -0.2149,  0.7268, -0.3662,  0.5419],\n",
       "        [-0.3954, -0.2149,    -inf, -0.1725,  0.8322, -0.3525],\n",
       "        [-0.1994,  0.7268, -0.1725,    -inf, -0.3368,  0.7938],\n",
       "        [-0.3942, -0.3662,  0.8322, -0.3368,    -inf, -0.4720],\n",
       "        [ 0.4277,  0.5419, -0.3525,  0.7938, -0.4720,    -inf]])"
      ]
     },
     "execution_count": 6,
     "metadata": {},
     "output_type": "execute_result"
    }
   ],
   "source": [
    "# discard main diagonal\n",
    "\n",
    "similarity_matrix[eye.bool()] = float(\"-inf\")\n",
    "similarity_matrix"
   ]
  },
  {
   "cell_type": "code",
   "execution_count": 7,
   "id": "dca0b7c7-5581-4bdf-8bbe-1c4e88b1b0e6",
   "metadata": {},
   "outputs": [
    {
     "data": {
      "text/plain": [
       "tensor([1, 0, 3, 2, 5, 4])"
      ]
     },
     "execution_count": 7,
     "metadata": {},
     "output_type": "execute_result"
    }
   ],
   "source": [
    "# target matrix\n",
    "\n",
    "target_matrix = torch.arange(batch_size)\n",
    "target_matrix[0::2] += 1\n",
    "target_matrix[1::2] -= 1\n",
    "target_matrix"
   ]
  },
  {
   "cell_type": "code",
   "execution_count": 8,
   "id": "1ff06830-cd00-4f27-99d6-f1b31983a28e",
   "metadata": {},
   "outputs": [
    {
     "data": {
      "text/plain": [
       "tensor([[1],\n",
       "        [0],\n",
       "        [3],\n",
       "        [2],\n",
       "        [5],\n",
       "        [4]])"
      ]
     },
     "execution_count": 8,
     "metadata": {},
     "output_type": "execute_result"
    }
   ],
   "source": [
    "index = target_matrix.reshape(batch_size, 1).long()\n",
    "index"
   ]
  },
  {
   "cell_type": "code",
   "execution_count": 9,
   "id": "cc366639-fe81-4978-9264-72af2bfe74aa",
   "metadata": {},
   "outputs": [
    {
     "data": {
      "text/plain": [
       "tensor([[0, 1, 0, 0, 0, 0],\n",
       "        [1, 0, 0, 0, 0, 0],\n",
       "        [0, 0, 0, 1, 0, 0],\n",
       "        [0, 0, 1, 0, 0, 0],\n",
       "        [0, 0, 0, 0, 0, 1],\n",
       "        [0, 0, 0, 0, 1, 0]])"
      ]
     },
     "execution_count": 9,
     "metadata": {},
     "output_type": "execute_result"
    }
   ],
   "source": [
    "# create labels matrix\n",
    "\n",
    "zeros = torch.zeros(batch_size, batch_size).long()\n",
    "ones = torch.ones(batch_size, batch_size).long()\n",
    "\n",
    "\n",
    "ground_truth_labels = torch.scatter(zeros, 1, index, ones)\n",
    "ground_truth_labels"
   ]
  },
  {
   "cell_type": "code",
   "execution_count": 10,
   "id": "5ac3bbed-b986-4852-beb1-244f1e8045b2",
   "metadata": {},
   "outputs": [
    {
     "data": {
      "text/plain": [
       "tensor(1.9966)"
      ]
     },
     "execution_count": 10,
     "metadata": {},
     "output_type": "execute_result"
    }
   ],
   "source": [
    "F.cross_entropy(similarity_matrix, target_matrix, reduction=\"mean\")"
   ]
  },
  {
   "cell_type": "code",
   "execution_count": 14,
   "id": "29fbde8a-e2a9-49e3-8846-e16b0ba36db8",
   "metadata": {},
   "outputs": [
    {
     "name": "stdout",
     "output_type": "stream",
     "text": [
      "Temperature: 0.01, Loss: 99.19322967529297\n",
      "Temperature: 0.10, Loss: 10.030501365661621\n",
      "Temperature: 1.00, Loss: 1.9965673685073853\n",
      "Temperature: 10.00, Loss: 1.6381586790084839\n"
     ]
    }
   ],
   "source": [
    "# implementation\n",
    "\n",
    "def nt_xent_loss(model_output, temperature):\n",
    "    \"\"\"Calculate NT-Xent loss.\n",
    "\n",
    "    Args:\n",
    "        model_output (Tensor): Model output\n",
    "        temperature (float): Loss temperature\n",
    "\n",
    "    Returns:\n",
    "        Tensor: NT-Xent loss\n",
    "    \"\"\"\n",
    "    batch_size = model_output.shape[0]\n",
    "    hidden_size = model_output.shape[1]\n",
    "    \n",
    "    # Cosine similarity\n",
    "    similarity_matrix = F.cosine_similarity(\n",
    "        x.reshape(1, batch_size, hidden_size),\n",
    "        x.reshape(batch_size, 1, hidden_size),\n",
    "        dim=-1\n",
    "    )\n",
    "\n",
    "    # Discard main diagonal\n",
    "    similarity_matrix[torch.eye(batch_size).bool()] = float(\"-inf\")\n",
    "\n",
    "    # Labels\n",
    "    labels = torch.arange(batch_size)\n",
    "    labels[0::2] += 1\n",
    "    labels[1::2] -= 1\n",
    "    \n",
    "    # Compute cross entropy loss\n",
    "    return F.cross_entropy(similarity_matrix / temperature, labels, reduction=\"mean\")\n",
    "\n",
    "torch.manual_seed(42)\n",
    "batch = torch.randn(batch_size, hidden_size)\n",
    "\n",
    "for t in (0.01, 0.1, 1.0, 10.0):\n",
    "    print(f\"Temperature: {t:.2f}, Loss: {nt_xent_loss(batch, temperature=t)}\")"
   ]
  }
 ],
 "metadata": {
  "kernelspec": {
   "display_name": "Python 3 (ipykernel)",
   "language": "python",
   "name": "python3"
  },
  "language_info": {
   "codemirror_mode": {
    "name": "ipython",
    "version": 3
   },
   "file_extension": ".py",
   "mimetype": "text/x-python",
   "name": "python",
   "nbconvert_exporter": "python",
   "pygments_lexer": "ipython3",
   "version": "3.12.3"
  }
 },
 "nbformat": 4,
 "nbformat_minor": 5
}
