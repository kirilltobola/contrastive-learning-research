{
 "cells": [
  {
   "cell_type": "code",
   "execution_count": 1,
   "id": "b007540e-7954-4d6d-8994-1228eb537abb",
   "metadata": {},
   "outputs": [],
   "source": [
    "import torch\n",
    "from torch import nn\n",
    "from torch.nn import functional as F"
   ]
  },
  {
   "cell_type": "code",
   "execution_count": 2,
   "id": "96292ccf-851c-4d49-bc23-6dc4b6c5e47a",
   "metadata": {},
   "outputs": [],
   "source": [
    "batch_size = 32 # bigger batch size for local computer causes badalloc (on A100 can try _ batch_size)\n",
    "seq_len = 512\n",
    "hidden_size = 768"
   ]
  },
  {
   "cell_type": "code",
   "execution_count": 3,
   "id": "3a5421bc-dd08-4394-b550-42504cefb176",
   "metadata": {},
   "outputs": [
    {
     "data": {
      "text/plain": [
       "tensor([[1., 0., 0.,  ..., 0., 0., 0.],\n",
       "        [0., 1., 0.,  ..., 0., 0., 0.],\n",
       "        [0., 0., 1.,  ..., 0., 0., 0.],\n",
       "        ...,\n",
       "        [0., 0., 0.,  ..., 1., 0., 0.],\n",
       "        [0., 0., 0.,  ..., 0., 1., 0.],\n",
       "        [0., 0., 0.,  ..., 0., 0., 1.]])"
      ]
     },
     "execution_count": 3,
     "metadata": {},
     "output_type": "execute_result"
    }
   ],
   "source": [
    "eye = torch.eye(batch_size)\n",
    "eye"
   ]
  },
  {
   "cell_type": "code",
   "execution_count": 4,
   "id": "e6f84268-fb0f-4388-9909-0cfaf75f6e92",
   "metadata": {},
   "outputs": [
    {
     "data": {
      "text/plain": [
       "torch.Size([32, 512, 768])"
      ]
     },
     "execution_count": 4,
     "metadata": {},
     "output_type": "execute_result"
    }
   ],
   "source": [
    "# Model output\n",
    "torch.manual_seed(42)\n",
    "x = torch.randn(batch_size, seq_len, hidden_size)\n",
    "x.shape"
   ]
  },
  {
   "cell_type": "code",
   "execution_count": 5,
   "id": "ecb986db-9cda-45a4-bc40-314a10b5be79",
   "metadata": {},
   "outputs": [
    {
     "data": {
      "text/plain": [
       "torch.Size([32, 393216])"
      ]
     },
     "execution_count": 5,
     "metadata": {},
     "output_type": "execute_result"
    }
   ],
   "source": [
    "# flatten seq_len and hidden_size into one dimension\n",
    "x = x.view(x.size()[0], -1)\n",
    "x.shape"
   ]
  },
  {
   "cell_type": "code",
   "execution_count": 6,
   "id": "a39fec95-d829-4aaf-8f11-8b8e95a5aa0e",
   "metadata": {},
   "outputs": [
    {
     "data": {
      "text/plain": [
       "tensor([[ 1.9269,  1.4873,  0.9007,  ...,  0.4437, -0.3335,  1.3220],\n",
       "        [ 0.6839,  0.7625, -0.8857,  ..., -0.2343, -0.9000, -0.8702],\n",
       "        [ 1.2346,  0.6121, -0.3751,  ..., -1.9618, -1.1964,  0.6218],\n",
       "        ...,\n",
       "        [ 0.7162,  0.8673, -0.8819,  ...,  0.1874, -0.5655, -0.2217],\n",
       "        [ 0.6127,  0.3267, -0.4352,  ..., -0.6766,  2.0321,  0.1363],\n",
       "        [-1.4985, -2.6349,  0.4779,  ..., -0.1444, -0.3367, -0.0716]],\n",
       "       device='cuda:0')"
      ]
     },
     "execution_count": 6,
     "metadata": {},
     "output_type": "execute_result"
    }
   ],
   "source": [
    "x.to(device='cuda')"
   ]
  },
  {
   "cell_type": "code",
   "execution_count": 7,
   "id": "f7856cc6-e08c-4e01-a5a2-588c4b583a24",
   "metadata": {},
   "outputs": [],
   "source": [
    "def get_tensor_size_in_gb(t):\n",
    "    return (t.element_size() * t.nelement()) / 1_000_000_000"
   ]
  },
  {
   "cell_type": "code",
   "execution_count": 8,
   "id": "298b5a09-38d8-4113-bc23-c298ca665493",
   "metadata": {},
   "outputs": [
    {
     "data": {
      "text/plain": [
       "tensor([[ 1.0000e+00,  2.1379e-03, -1.6717e-03,  ..., -1.2817e-03,\n",
       "          1.4366e-03,  2.3230e-03],\n",
       "        [ 2.1379e-03,  1.0000e+00,  1.5649e-04,  ...,  1.3443e-03,\n",
       "          1.0031e-03, -1.2600e-03],\n",
       "        [-1.6717e-03,  1.5649e-04,  1.0000e+00,  ...,  8.2536e-04,\n",
       "          2.9734e-04, -6.1174e-04],\n",
       "        ...,\n",
       "        [-1.2817e-03,  1.3443e-03,  8.2536e-04,  ...,  1.0000e+00,\n",
       "         -8.5864e-04, -1.4561e-03],\n",
       "        [ 1.4366e-03,  1.0031e-03,  2.9734e-04,  ..., -8.5864e-04,\n",
       "          1.0000e+00,  1.6072e-03],\n",
       "        [ 2.3230e-03, -1.2600e-03, -6.1174e-04,  ..., -1.4561e-03,\n",
       "          1.6072e-03,  1.0000e+00]])"
      ]
     },
     "execution_count": 8,
     "metadata": {},
     "output_type": "execute_result"
    }
   ],
   "source": [
    "# compute sim between every pair\n",
    "# TODO: not efficient by memory\n",
    "\n",
    "similarity_matrix = F.cosine_similarity(\n",
    "    x.reshape(1, x.size()[0], x.size()[1]), \n",
    "    x.reshape(x.size()[0], 1, x.size()[1]), \n",
    "    dim=-1\n",
    ")\n",
    "similarity_matrix"
   ]
  },
  {
   "cell_type": "code",
   "execution_count": 9,
   "id": "74426559-4a05-4526-96a6-7375b539bded",
   "metadata": {},
   "outputs": [
    {
     "data": {
      "text/plain": [
       "tensor([[   -inf,  0.0021, -0.0017,  ..., -0.0013,  0.0014,  0.0023],\n",
       "        [ 0.0021,    -inf,  0.0002,  ...,  0.0013,  0.0010, -0.0013],\n",
       "        [-0.0017,  0.0002,    -inf,  ...,  0.0008,  0.0003, -0.0006],\n",
       "        ...,\n",
       "        [-0.0013,  0.0013,  0.0008,  ...,    -inf, -0.0009, -0.0015],\n",
       "        [ 0.0014,  0.0010,  0.0003,  ..., -0.0009,    -inf,  0.0016],\n",
       "        [ 0.0023, -0.0013, -0.0006,  ..., -0.0015,  0.0016,    -inf]])"
      ]
     },
     "execution_count": 9,
     "metadata": {},
     "output_type": "execute_result"
    }
   ],
   "source": [
    "# discard main diagonal\n",
    "\n",
    "similarity_matrix[eye.bool()] = float(\"-inf\")\n",
    "similarity_matrix"
   ]
  },
  {
   "cell_type": "code",
   "execution_count": 10,
   "id": "dca0b7c7-5581-4bdf-8bbe-1c4e88b1b0e6",
   "metadata": {},
   "outputs": [
    {
     "data": {
      "text/plain": [
       "tensor([ 1,  0,  3,  2,  5,  4,  7,  6,  9,  8, 11, 10, 13, 12, 15, 14, 17, 16,\n",
       "        19, 18, 21, 20, 23, 22, 25, 24, 27, 26, 29, 28, 31, 30])"
      ]
     },
     "execution_count": 10,
     "metadata": {},
     "output_type": "execute_result"
    }
   ],
   "source": [
    "# target matrix\n",
    "\n",
    "target_matrix = torch.arange(batch_size)\n",
    "target_matrix[0::2] += 1\n",
    "target_matrix[1::2] -= 1\n",
    "target_matrix"
   ]
  },
  {
   "cell_type": "code",
   "execution_count": 11,
   "id": "1ff06830-cd00-4f27-99d6-f1b31983a28e",
   "metadata": {},
   "outputs": [
    {
     "data": {
      "text/plain": [
       "tensor([[ 1],\n",
       "        [ 0],\n",
       "        [ 3],\n",
       "        [ 2],\n",
       "        [ 5],\n",
       "        [ 4],\n",
       "        [ 7],\n",
       "        [ 6],\n",
       "        [ 9],\n",
       "        [ 8],\n",
       "        [11],\n",
       "        [10],\n",
       "        [13],\n",
       "        [12],\n",
       "        [15],\n",
       "        [14],\n",
       "        [17],\n",
       "        [16],\n",
       "        [19],\n",
       "        [18],\n",
       "        [21],\n",
       "        [20],\n",
       "        [23],\n",
       "        [22],\n",
       "        [25],\n",
       "        [24],\n",
       "        [27],\n",
       "        [26],\n",
       "        [29],\n",
       "        [28],\n",
       "        [31],\n",
       "        [30]])"
      ]
     },
     "execution_count": 11,
     "metadata": {},
     "output_type": "execute_result"
    }
   ],
   "source": [
    "index = target_matrix.reshape(x.size()[0], 1).long()\n",
    "index"
   ]
  },
  {
   "cell_type": "code",
   "execution_count": 12,
   "id": "cc366639-fe81-4978-9264-72af2bfe74aa",
   "metadata": {},
   "outputs": [
    {
     "data": {
      "text/plain": [
       "tensor([[0, 1, 0,  ..., 0, 0, 0],\n",
       "        [1, 0, 0,  ..., 0, 0, 0],\n",
       "        [0, 0, 0,  ..., 0, 0, 0],\n",
       "        ...,\n",
       "        [0, 0, 0,  ..., 0, 0, 0],\n",
       "        [0, 0, 0,  ..., 0, 0, 0],\n",
       "        [0, 0, 0,  ..., 0, 0, 0]])"
      ]
     },
     "execution_count": 12,
     "metadata": {},
     "output_type": "execute_result"
    }
   ],
   "source": [
    "# create labels matrix\n",
    "\n",
    "zeros = torch.zeros(x.size()[0], x.size()[1]).long()\n",
    "ones = torch.ones(x.size()[0], x.size()[1]).long()\n",
    "\n",
    "\n",
    "ground_truth_labels = torch.scatter(zeros, 1, index, ones)\n",
    "ground_truth_labels"
   ]
  },
  {
   "cell_type": "code",
   "execution_count": 13,
   "id": "5ac3bbed-b986-4852-beb1-244f1e8045b2",
   "metadata": {},
   "outputs": [
    {
     "data": {
      "text/plain": [
       "tensor(3.4339)"
      ]
     },
     "execution_count": 13,
     "metadata": {},
     "output_type": "execute_result"
    }
   ],
   "source": [
    "F.cross_entropy(similarity_matrix, target_matrix, reduction=\"mean\")"
   ]
  },
  {
   "cell_type": "code",
   "execution_count": 14,
   "id": "29fbde8a-e2a9-49e3-8846-e16b0ba36db8",
   "metadata": {},
   "outputs": [
    {
     "name": "stdout",
     "output_type": "stream",
     "text": [
      "Temperature: 0.01, Loss: 3.4320895671844482\n",
      "Temperature: 0.10, Loss: 3.4327821731567383\n",
      "Temperature: 1.00, Loss: 3.433856725692749\n",
      "Temperature: 10.00, Loss: 3.433974266052246\n"
     ]
    }
   ],
   "source": [
    "# implementation\n",
    "\n",
    "def nt_xent_loss(model_output, temperature):\n",
    "    \"\"\"Calculate NT-Xent loss.\n",
    "\n",
    "    Args:\n",
    "        model_output (Tensor): Model output\n",
    "        temperature (float): Loss temperature\n",
    "\n",
    "    Returns:\n",
    "        Tensor: NT-Xent loss\n",
    "    \"\"\"\n",
    "    batch_size = model_output.shape[0]\n",
    "    hidden_size = model_output.shape[1]\n",
    "    \n",
    "    # Cosine similarity\n",
    "    similarity_matrix = F.cosine_similarity(\n",
    "        x.reshape(1, x.size()[0], x.size()[1]),\n",
    "        x.reshape(x.size()[0], 1, x.size()[1]),\n",
    "        dim=-1\n",
    "    )\n",
    "\n",
    "    # Discard main diagonal\n",
    "    similarity_matrix[torch.eye(batch_size).bool()] = float(\"-inf\")\n",
    "\n",
    "    # Labels\n",
    "    labels = torch.arange(batch_size)\n",
    "    labels[0::2] += 1\n",
    "    labels[1::2] -= 1\n",
    "    \n",
    "    # Compute cross entropy loss\n",
    "    return F.cross_entropy(similarity_matrix / temperature, labels, reduction=\"mean\")\n",
    "\n",
    "torch.manual_seed(42)\n",
    "batch = torch.randn(batch_size, hidden_size)\n",
    "\n",
    "for t in (0.01, 0.1, 1.0, 10.0):\n",
    "    print(f\"Temperature: {t:.2f}, Loss: {nt_xent_loss(batch, temperature=t)}\")"
   ]
  }
 ],
 "metadata": {
  "kernelspec": {
   "display_name": "Python 3 (ipykernel)",
   "language": "python",
   "name": "python3"
  },
  "language_info": {
   "codemirror_mode": {
    "name": "ipython",
    "version": 3
   },
   "file_extension": ".py",
   "mimetype": "text/x-python",
   "name": "python",
   "nbconvert_exporter": "python",
   "pygments_lexer": "ipython3",
   "version": "3.12.3"
  }
 },
 "nbformat": 4,
 "nbformat_minor": 5
}
